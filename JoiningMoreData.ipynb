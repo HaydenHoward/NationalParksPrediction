{
  "nbformat": 4,
  "nbformat_minor": 0,
  "metadata": {
    "colab": {
      "provenance": []
    },
    "kernelspec": {
      "name": "python3",
      "display_name": "Python 3"
    },
    "language_info": {
      "name": "python"
    }
  },
  "cells": [
    {
      "cell_type": "code",
      "execution_count": null,
      "metadata": {
        "id": "6B4Ai_zGjPf3"
      },
      "outputs": [],
      "source": [
        "import pandas as pd\n",
        "import json\n",
        "import requests\n",
        "import os"
      ]
    },
    {
      "cell_type": "code",
      "source": [
        "NationalWeather = pd.read_csv(\"/content/NationalWeather.csv\")\n",
        "TotalNationalPark = pd.read_csv(\"/content/Total_National_Park_Visitor_Spending.csv\")\n"
      ],
      "metadata": {
        "id": "NAt8pQROjWBz"
      },
      "execution_count": null,
      "outputs": []
    },
    {
      "cell_type": "markdown",
      "source": [
        "Need to make the name column in NationalWeather to the park unit column in Total_National_Park_Visitor_Spending"
      ],
      "metadata": {
        "id": "rC30VIzwkbeX"
      }
    },
    {
      "cell_type": "code",
      "source": [
        "WeatherPark = NationalWeather.Name.unique()\n",
        "NationalPark = TotalNationalPark[\"Park Unit\"].unique()"
      ],
      "metadata": {
        "id": "_43yJ7yXkrAQ"
      },
      "execution_count": null,
      "outputs": []
    },
    {
      "cell_type": "code",
      "source": [
        "pd.set_option('display.max_colwidth', None)\n",
        "\n",
        "WeatherPark\n",
        "# NationalPark"
      ],
      "metadata": {
        "id": "C7CDb3Y6sbtM"
      },
      "execution_count": null,
      "outputs": []
    },
    {
      "cell_type": "code",
      "source": [
        "pd.set_option('display.max_colwidth', None)\n",
        "NationalPark\n"
      ],
      "metadata": {
        "id": "vbSuf6XPuPUz"
      },
      "execution_count": null,
      "outputs": []
    },
    {
      "cell_type": "code",
      "source": [
        "# replaced = [\"NHP\",\"NM\",'NP',\"NHS\",\"NM&PRES\",\"NP&PRES\",\"NB\",\"NL\",\"NMEM\",\"NS\",\"NPRES\",\"NRRA\",\"NRA\",\"PKWY\",\"NSR\",\"NR\", \"P\",\"NRES\",\"NM&SHRINE\",\"MEM\",\"MEM PKWY\",\"NMP\",\"NBP\",\"IHS\",\"EHP\",\"NHP&EP\",\"NSR&NRR\",\"W&SR\",\"a\",\"b\",\"c\",\"a,b\",\"a,b,c\"]\n",
        "# replacing=[\"National Historical Park\",\"National Monument\",\"National Park\",\"National Historic Site\",\"National Monument & Preserve\",\"National Park & Preserve\",\"National Battlefield\",\"National Lakeshore\",\"National Memorial\",\"National Seashore\",\"National Preserve\",\"National River & Recreation Area\",\"National Recreation Area\",\"Parkway\",\"National Scenic River\",\"National River\", \"Park\",\"National Reserve\",\"National Monument and Historic Shrine\",\"Memorial\",\"Memorial Parkway\",\"National Military Park\",\"National Battlefield Park\",\"International Historic Site\",\"National Historical Park and Ecological Preserve\",\"National Historical Park and Ecological Preserve\",\"National Scenic River & National Recreational River\",\"Wild & Scenic River\",\" a\",\" b\",\" c\",\"a,b\",\"a,b,c\"]\n",
        "# TotalNationalPark[\"Park Unit\"].replace(replaced, replacing, inplace = True)"
      ],
      "metadata": {
        "id": "_hmV6GOika7z"
      },
      "execution_count": null,
      "outputs": []
    },
    {
      "cell_type": "code",
      "source": [
        "TotalNationalPark.query('(Year == 2019)').head(40)"
      ],
      "metadata": {
        "id": "McfriWReNeua"
      },
      "execution_count": null,
      "outputs": []
    },
    {
      "cell_type": "code",
      "source": [
        "TotalNationalPark = pd.read_csv(\"/content/Total_National_Park_Visitor_Spending.csv\")"
      ],
      "metadata": {
        "id": "VBnCL0twSfqk"
      },
      "execution_count": null,
      "outputs": []
    },
    {
      "cell_type": "code",
      "source": [
        "patterns = [\"*\",\"!\" ,r\" a,b,c$\", r\" a,b$\",r\"(?<=\\w) a$\",\"a$\",r\"(?<=\\w) b$\",\"b$\",r\"(?<=\\w) c$\",\"(?<!Pacifi)c$\",r\"(?<=\\w) X$\",\"X$\",r\"(?<=\\w) NPRES\",r\"&\",r\"(?<!\\w)[(?!&), ]P(?!\\w)\",\n",
        "            r\"(?<=\\w) EP\",r\"(?<=\\w) NHP\",r\"(?<=\\w) NMEM\",r\"(?<=\\w) NM(?=\\s|$)\",r'(?<=\\w) NP',r\"(?<=\\w) NHS\",r\"(?<=\\w) PRES\",r\"(?<=\\w) NB\",r\"(?<=\\w) NL\", r\"(?<=\\w) NS$\",r\"(?<=\\w) NRRA\",\n",
        "            r\"(?<=\\w) NRA\",r\"(?<=\\w) PKWY\",r\"(?<=\\w) NSR\",r\"(?<=\\w) NR$\",r\"(?<=\\w) NRES\",r\"(?<=\\w) NM&SHRINE\",r\"(?<=\\w) MEM\",r\"(?<=\\w) MEM PKWY\",r\"(?<=\\w) NMP\",\n",
        "            r\"(?<=\\w) NBP\",r\"(?<=\\w) IHS\",r\"(?<=\\w) EHP\",r\"(?<=\\w) NHP&EP\",r\"(?<=\\w) NSR&NRR\",r\"(?<=\\w) W&SR\",\"a,$\",r\"(?<=Park)a$\",r\"P$\",r\"\\s{1,2}$\",r\"\\s{2}\"]\n",
        "replacement_values=[\"\",\"\",\"\",\"\",\"\",\"\",\"\",\"\",\"\",\"\",\"\",\"\",\" National Preserve\",\" and \",\" Park\",\" Ecological Preserve\",\" National Historical Park\",\" National Memorial\",\" National Monument\",\n",
        "                    \" National Park\",\" National Historic Site\",\" Preserve\",\" National Battlefield\",\" National Lakeshore\",\" National Seashore\",\" National River and Recreation Area\",\n",
        "                    \" National Recreation Area\",\" Parkway\",\" National Scenic River\",\" National River\", \" National Reserve\",\" National Monument and Historic Shrine\",\" Memorial\",\n",
        "                    \" Memorial Parkway\",\" National Military Park\",\" National Battlefield Park\",\" International Historic Site\",\" National Historical Park and Ecological Preserve\",\n",
        "                    \" National Historical Park and Ecological Preserve\",\" National Scenic River and National Recreational River\",\" Wild and Scenic River\",\"\",\"\",\" Park\",\"\",\" \"]\n",
        "\n",
        "\n",
        "for pattern, replacement in zip(patterns, replacement_values):\n",
        "    TotalNationalPark[\"Park Unit\"] = TotalNationalPark[\"Park Unit\"].str.replace(pattern, replacement)\n",
        "\n",
        "\n",
        "# TotalNationalPark[\"Park Unit\"].replace(replaced, replacing\n",
        "TotalNationalPark\n",
        "# TotalNationalPark.tail(50)\n"
      ],
      "metadata": {
        "colab": {
          "base_uri": "https://localhost:8080/",
          "height": 721
        },
        "id": "3F-L6EqkPPAx",
        "outputId": "821caf4e-4cd5-4305-b806-e0d9aaa99e3d"
      },
      "execution_count": null,
      "outputs": [
        {
          "output_type": "stream",
          "name": "stderr",
          "text": [
            "<ipython-input-22-61e0045dbac0>:13: FutureWarning: The default value of regex will change from True to False in a future version. In addition, single character regular expressions will *not* be treated as literal strings when regex=True.\n",
            "  TotalNationalPark[\"Park Unit\"] = TotalNationalPark[\"Park Unit\"].str.replace(pattern, replacement)\n",
            "<ipython-input-22-61e0045dbac0>:13: FutureWarning: The default value of regex will change from True to False in a future version.\n",
            "  TotalNationalPark[\"Park Unit\"] = TotalNationalPark[\"Park Unit\"].str.replace(pattern, replacement)\n"
          ]
        },
        {
          "output_type": "execute_result",
          "data": {
            "text/plain": [
              "                                                Park Unit  \\\n",
              "0     Abraham Lincoln Birthplace National Historical Park   \n",
              "1                                    Acadia National Park   \n",
              "2                          Adams National Historical Park   \n",
              "3                 African Burial Ground National Monument   \n",
              "4                     Agate Fossil Beds National Monument   \n",
              "...                                                   ...   \n",
              "4169                            Wupatki National Monument   \n",
              "4170                            Yellowstone National Park   \n",
              "4171                               Yosemite National Park   \n",
              "4172             Yukon - Charley Rivers National Preserve   \n",
              "4173                                   Zion National Park   \n",
              "\n",
              "     Total Recreation Visits Total Visitor Spending    Jobs Labor Income  \\\n",
              "0                    169,515             $9,121.80      137   $3,942.90    \n",
              "1                  2,431,052           $200,920.00    3,089  $92,344.30    \n",
              "2                    336,031            $18,082.20      244   $9,443.30    \n",
              "3                     77,624             $4,177.00       48   $2,268.10    \n",
              "4                     11,824               $798.90       10     $216.10    \n",
              "...                      ...                    ...     ...          ...   \n",
              "4169                 194,448               $14,153      170      $5,726    \n",
              "4170               3,290,242              $452,025    6,234    $210,832    \n",
              "4171               3,667,550              $497,552    6,314    $243,403    \n",
              "4172                     744                $1,074       15        $589    \n",
              "4173               4,692,417              $672,427   10,777    $277,900    \n",
              "\n",
              "       Value Added Economic Output  Year  \n",
              "0       $6,781.60      $11,529.90   2012  \n",
              "1     $152,518.70     $264,000.60   2012  \n",
              "2      $15,317.30      $23,901.90   2012  \n",
              "3       $3,670.30       $5,365.30   2012  \n",
              "4         $405.00         $770.80   2012  \n",
              "...            ...             ...   ...  \n",
              "4169       $9,504         $16,660   2022  \n",
              "4170     $327,536        $599,600   2022  \n",
              "4171     $398,697        $683,739   2022  \n",
              "4172         $952          $1,621   2022  \n",
              "4173     $492,714        $961,270   2022  \n",
              "\n",
              "[4174 rows x 8 columns]"
            ],
            "text/html": [
              "\n",
              "  <div id=\"df-9b74946d-7157-4391-b81e-f8615d8ae548\" class=\"colab-df-container\">\n",
              "    <div>\n",
              "<style scoped>\n",
              "    .dataframe tbody tr th:only-of-type {\n",
              "        vertical-align: middle;\n",
              "    }\n",
              "\n",
              "    .dataframe tbody tr th {\n",
              "        vertical-align: top;\n",
              "    }\n",
              "\n",
              "    .dataframe thead th {\n",
              "        text-align: right;\n",
              "    }\n",
              "</style>\n",
              "<table border=\"1\" class=\"dataframe\">\n",
              "  <thead>\n",
              "    <tr style=\"text-align: right;\">\n",
              "      <th></th>\n",
              "      <th>Park Unit</th>\n",
              "      <th>Total Recreation Visits</th>\n",
              "      <th>Total Visitor Spending</th>\n",
              "      <th>Jobs</th>\n",
              "      <th>Labor Income</th>\n",
              "      <th>Value Added</th>\n",
              "      <th>Economic Output</th>\n",
              "      <th>Year</th>\n",
              "    </tr>\n",
              "  </thead>\n",
              "  <tbody>\n",
              "    <tr>\n",
              "      <th>0</th>\n",
              "      <td>Abraham Lincoln Birthplace National Historical Park</td>\n",
              "      <td>169,515</td>\n",
              "      <td>$9,121.80</td>\n",
              "      <td>137</td>\n",
              "      <td>$3,942.90</td>\n",
              "      <td>$6,781.60</td>\n",
              "      <td>$11,529.90</td>\n",
              "      <td>2012</td>\n",
              "    </tr>\n",
              "    <tr>\n",
              "      <th>1</th>\n",
              "      <td>Acadia National Park</td>\n",
              "      <td>2,431,052</td>\n",
              "      <td>$200,920.00</td>\n",
              "      <td>3,089</td>\n",
              "      <td>$92,344.30</td>\n",
              "      <td>$152,518.70</td>\n",
              "      <td>$264,000.60</td>\n",
              "      <td>2012</td>\n",
              "    </tr>\n",
              "    <tr>\n",
              "      <th>2</th>\n",
              "      <td>Adams National Historical Park</td>\n",
              "      <td>336,031</td>\n",
              "      <td>$18,082.20</td>\n",
              "      <td>244</td>\n",
              "      <td>$9,443.30</td>\n",
              "      <td>$15,317.30</td>\n",
              "      <td>$23,901.90</td>\n",
              "      <td>2012</td>\n",
              "    </tr>\n",
              "    <tr>\n",
              "      <th>3</th>\n",
              "      <td>African Burial Ground National Monument</td>\n",
              "      <td>77,624</td>\n",
              "      <td>$4,177.00</td>\n",
              "      <td>48</td>\n",
              "      <td>$2,268.10</td>\n",
              "      <td>$3,670.30</td>\n",
              "      <td>$5,365.30</td>\n",
              "      <td>2012</td>\n",
              "    </tr>\n",
              "    <tr>\n",
              "      <th>4</th>\n",
              "      <td>Agate Fossil Beds National Monument</td>\n",
              "      <td>11,824</td>\n",
              "      <td>$798.90</td>\n",
              "      <td>10</td>\n",
              "      <td>$216.10</td>\n",
              "      <td>$405.00</td>\n",
              "      <td>$770.80</td>\n",
              "      <td>2012</td>\n",
              "    </tr>\n",
              "    <tr>\n",
              "      <th>...</th>\n",
              "      <td>...</td>\n",
              "      <td>...</td>\n",
              "      <td>...</td>\n",
              "      <td>...</td>\n",
              "      <td>...</td>\n",
              "      <td>...</td>\n",
              "      <td>...</td>\n",
              "      <td>...</td>\n",
              "    </tr>\n",
              "    <tr>\n",
              "      <th>4169</th>\n",
              "      <td>Wupatki National Monument</td>\n",
              "      <td>194,448</td>\n",
              "      <td>$14,153</td>\n",
              "      <td>170</td>\n",
              "      <td>$5,726</td>\n",
              "      <td>$9,504</td>\n",
              "      <td>$16,660</td>\n",
              "      <td>2022</td>\n",
              "    </tr>\n",
              "    <tr>\n",
              "      <th>4170</th>\n",
              "      <td>Yellowstone National Park</td>\n",
              "      <td>3,290,242</td>\n",
              "      <td>$452,025</td>\n",
              "      <td>6,234</td>\n",
              "      <td>$210,832</td>\n",
              "      <td>$327,536</td>\n",
              "      <td>$599,600</td>\n",
              "      <td>2022</td>\n",
              "    </tr>\n",
              "    <tr>\n",
              "      <th>4171</th>\n",
              "      <td>Yosemite National Park</td>\n",
              "      <td>3,667,550</td>\n",
              "      <td>$497,552</td>\n",
              "      <td>6,314</td>\n",
              "      <td>$243,403</td>\n",
              "      <td>$398,697</td>\n",
              "      <td>$683,739</td>\n",
              "      <td>2022</td>\n",
              "    </tr>\n",
              "    <tr>\n",
              "      <th>4172</th>\n",
              "      <td>Yukon - Charley Rivers National Preserve</td>\n",
              "      <td>744</td>\n",
              "      <td>$1,074</td>\n",
              "      <td>15</td>\n",
              "      <td>$589</td>\n",
              "      <td>$952</td>\n",
              "      <td>$1,621</td>\n",
              "      <td>2022</td>\n",
              "    </tr>\n",
              "    <tr>\n",
              "      <th>4173</th>\n",
              "      <td>Zion National Park</td>\n",
              "      <td>4,692,417</td>\n",
              "      <td>$672,427</td>\n",
              "      <td>10,777</td>\n",
              "      <td>$277,900</td>\n",
              "      <td>$492,714</td>\n",
              "      <td>$961,270</td>\n",
              "      <td>2022</td>\n",
              "    </tr>\n",
              "  </tbody>\n",
              "</table>\n",
              "<p>4174 rows × 8 columns</p>\n",
              "</div>\n",
              "    <div class=\"colab-df-buttons\">\n",
              "\n",
              "  <div class=\"colab-df-container\">\n",
              "    <button class=\"colab-df-convert\" onclick=\"convertToInteractive('df-9b74946d-7157-4391-b81e-f8615d8ae548')\"\n",
              "            title=\"Convert this dataframe to an interactive table.\"\n",
              "            style=\"display:none;\">\n",
              "\n",
              "  <svg xmlns=\"http://www.w3.org/2000/svg\" height=\"24px\" viewBox=\"0 -960 960 960\">\n",
              "    <path d=\"M120-120v-720h720v720H120Zm60-500h600v-160H180v160Zm220 220h160v-160H400v160Zm0 220h160v-160H400v160ZM180-400h160v-160H180v160Zm440 0h160v-160H620v160ZM180-180h160v-160H180v160Zm440 0h160v-160H620v160Z\"/>\n",
              "  </svg>\n",
              "    </button>\n",
              "\n",
              "  <style>\n",
              "    .colab-df-container {\n",
              "      display:flex;\n",
              "      gap: 12px;\n",
              "    }\n",
              "\n",
              "    .colab-df-convert {\n",
              "      background-color: #E8F0FE;\n",
              "      border: none;\n",
              "      border-radius: 50%;\n",
              "      cursor: pointer;\n",
              "      display: none;\n",
              "      fill: #1967D2;\n",
              "      height: 32px;\n",
              "      padding: 0 0 0 0;\n",
              "      width: 32px;\n",
              "    }\n",
              "\n",
              "    .colab-df-convert:hover {\n",
              "      background-color: #E2EBFA;\n",
              "      box-shadow: 0px 1px 2px rgba(60, 64, 67, 0.3), 0px 1px 3px 1px rgba(60, 64, 67, 0.15);\n",
              "      fill: #174EA6;\n",
              "    }\n",
              "\n",
              "    .colab-df-buttons div {\n",
              "      margin-bottom: 4px;\n",
              "    }\n",
              "\n",
              "    [theme=dark] .colab-df-convert {\n",
              "      background-color: #3B4455;\n",
              "      fill: #D2E3FC;\n",
              "    }\n",
              "\n",
              "    [theme=dark] .colab-df-convert:hover {\n",
              "      background-color: #434B5C;\n",
              "      box-shadow: 0px 1px 3px 1px rgba(0, 0, 0, 0.15);\n",
              "      filter: drop-shadow(0px 1px 2px rgba(0, 0, 0, 0.3));\n",
              "      fill: #FFFFFF;\n",
              "    }\n",
              "  </style>\n",
              "\n",
              "    <script>\n",
              "      const buttonEl =\n",
              "        document.querySelector('#df-9b74946d-7157-4391-b81e-f8615d8ae548 button.colab-df-convert');\n",
              "      buttonEl.style.display =\n",
              "        google.colab.kernel.accessAllowed ? 'block' : 'none';\n",
              "\n",
              "      async function convertToInteractive(key) {\n",
              "        const element = document.querySelector('#df-9b74946d-7157-4391-b81e-f8615d8ae548');\n",
              "        const dataTable =\n",
              "          await google.colab.kernel.invokeFunction('convertToInteractive',\n",
              "                                                    [key], {});\n",
              "        if (!dataTable) return;\n",
              "\n",
              "        const docLinkHtml = 'Like what you see? Visit the ' +\n",
              "          '<a target=\"_blank\" href=https://colab.research.google.com/notebooks/data_table.ipynb>data table notebook</a>'\n",
              "          + ' to learn more about interactive tables.';\n",
              "        element.innerHTML = '';\n",
              "        dataTable['output_type'] = 'display_data';\n",
              "        await google.colab.output.renderOutput(dataTable, element);\n",
              "        const docLink = document.createElement('div');\n",
              "        docLink.innerHTML = docLinkHtml;\n",
              "        element.appendChild(docLink);\n",
              "      }\n",
              "    </script>\n",
              "  </div>\n",
              "\n",
              "\n",
              "<div id=\"df-4210dcdc-f08f-49f8-be5a-be32f3fccfa8\">\n",
              "  <button class=\"colab-df-quickchart\" onclick=\"quickchart('df-4210dcdc-f08f-49f8-be5a-be32f3fccfa8')\"\n",
              "            title=\"Suggest charts\"\n",
              "            style=\"display:none;\">\n",
              "\n",
              "<svg xmlns=\"http://www.w3.org/2000/svg\" height=\"24px\"viewBox=\"0 0 24 24\"\n",
              "     width=\"24px\">\n",
              "    <g>\n",
              "        <path d=\"M19 3H5c-1.1 0-2 .9-2 2v14c0 1.1.9 2 2 2h14c1.1 0 2-.9 2-2V5c0-1.1-.9-2-2-2zM9 17H7v-7h2v7zm4 0h-2V7h2v10zm4 0h-2v-4h2v4z\"/>\n",
              "    </g>\n",
              "</svg>\n",
              "  </button>\n",
              "\n",
              "<style>\n",
              "  .colab-df-quickchart {\n",
              "      --bg-color: #E8F0FE;\n",
              "      --fill-color: #1967D2;\n",
              "      --hover-bg-color: #E2EBFA;\n",
              "      --hover-fill-color: #174EA6;\n",
              "      --disabled-fill-color: #AAA;\n",
              "      --disabled-bg-color: #DDD;\n",
              "  }\n",
              "\n",
              "  [theme=dark] .colab-df-quickchart {\n",
              "      --bg-color: #3B4455;\n",
              "      --fill-color: #D2E3FC;\n",
              "      --hover-bg-color: #434B5C;\n",
              "      --hover-fill-color: #FFFFFF;\n",
              "      --disabled-bg-color: #3B4455;\n",
              "      --disabled-fill-color: #666;\n",
              "  }\n",
              "\n",
              "  .colab-df-quickchart {\n",
              "    background-color: var(--bg-color);\n",
              "    border: none;\n",
              "    border-radius: 50%;\n",
              "    cursor: pointer;\n",
              "    display: none;\n",
              "    fill: var(--fill-color);\n",
              "    height: 32px;\n",
              "    padding: 0;\n",
              "    width: 32px;\n",
              "  }\n",
              "\n",
              "  .colab-df-quickchart:hover {\n",
              "    background-color: var(--hover-bg-color);\n",
              "    box-shadow: 0 1px 2px rgba(60, 64, 67, 0.3), 0 1px 3px 1px rgba(60, 64, 67, 0.15);\n",
              "    fill: var(--button-hover-fill-color);\n",
              "  }\n",
              "\n",
              "  .colab-df-quickchart-complete:disabled,\n",
              "  .colab-df-quickchart-complete:disabled:hover {\n",
              "    background-color: var(--disabled-bg-color);\n",
              "    fill: var(--disabled-fill-color);\n",
              "    box-shadow: none;\n",
              "  }\n",
              "\n",
              "  .colab-df-spinner {\n",
              "    border: 2px solid var(--fill-color);\n",
              "    border-color: transparent;\n",
              "    border-bottom-color: var(--fill-color);\n",
              "    animation:\n",
              "      spin 1s steps(1) infinite;\n",
              "  }\n",
              "\n",
              "  @keyframes spin {\n",
              "    0% {\n",
              "      border-color: transparent;\n",
              "      border-bottom-color: var(--fill-color);\n",
              "      border-left-color: var(--fill-color);\n",
              "    }\n",
              "    20% {\n",
              "      border-color: transparent;\n",
              "      border-left-color: var(--fill-color);\n",
              "      border-top-color: var(--fill-color);\n",
              "    }\n",
              "    30% {\n",
              "      border-color: transparent;\n",
              "      border-left-color: var(--fill-color);\n",
              "      border-top-color: var(--fill-color);\n",
              "      border-right-color: var(--fill-color);\n",
              "    }\n",
              "    40% {\n",
              "      border-color: transparent;\n",
              "      border-right-color: var(--fill-color);\n",
              "      border-top-color: var(--fill-color);\n",
              "    }\n",
              "    60% {\n",
              "      border-color: transparent;\n",
              "      border-right-color: var(--fill-color);\n",
              "    }\n",
              "    80% {\n",
              "      border-color: transparent;\n",
              "      border-right-color: var(--fill-color);\n",
              "      border-bottom-color: var(--fill-color);\n",
              "    }\n",
              "    90% {\n",
              "      border-color: transparent;\n",
              "      border-bottom-color: var(--fill-color);\n",
              "    }\n",
              "  }\n",
              "</style>\n",
              "\n",
              "  <script>\n",
              "    async function quickchart(key) {\n",
              "      const quickchartButtonEl =\n",
              "        document.querySelector('#' + key + ' button');\n",
              "      quickchartButtonEl.disabled = true;  // To prevent multiple clicks.\n",
              "      quickchartButtonEl.classList.add('colab-df-spinner');\n",
              "      try {\n",
              "        const charts = await google.colab.kernel.invokeFunction(\n",
              "            'suggestCharts', [key], {});\n",
              "      } catch (error) {\n",
              "        console.error('Error during call to suggestCharts:', error);\n",
              "      }\n",
              "      quickchartButtonEl.classList.remove('colab-df-spinner');\n",
              "      quickchartButtonEl.classList.add('colab-df-quickchart-complete');\n",
              "    }\n",
              "    (() => {\n",
              "      let quickchartButtonEl =\n",
              "        document.querySelector('#df-4210dcdc-f08f-49f8-be5a-be32f3fccfa8 button');\n",
              "      quickchartButtonEl.style.display =\n",
              "        google.colab.kernel.accessAllowed ? 'block' : 'none';\n",
              "    })();\n",
              "  </script>\n",
              "</div>\n",
              "    </div>\n",
              "  </div>\n"
            ]
          },
          "metadata": {},
          "execution_count": 22
        }
      ]
    },
    {
      "cell_type": "code",
      "source": [
        "NationalWeather.drop(\"Unnamed: 0\", axis=1, inplace=True)\n",
        "combined_df = pd.merge(TotalNationalPark, NationalWeather, left_on=['Park Unit',\"Year\"], right_on=['Name',\"year\"], how='inner')\n",
        "pd.set_option('display.max_colwidth', None)\n",
        "\n",
        "# combined_df.columns\n",
        "combined_df.drop([\"Unnamed: 0.1\",\"Name\",\"Year\",\"yearMonth\"], axis=1, inplace=True)"
      ],
      "metadata": {
        "id": "ERCEf2G_l3pu"
      },
      "execution_count": null,
      "outputs": []
    },
    {
      "cell_type": "code",
      "source": [
        "combined_df.shape\n",
        "# combined_df.columns"
      ],
      "metadata": {
        "colab": {
          "base_uri": "https://localhost:8080/"
        },
        "id": "4s0gVUPoy-0b",
        "outputId": "a66770d5-a6b3-428b-9c6e-4b6ef1b08fd9"
      },
      "execution_count": null,
      "outputs": [
        {
          "output_type": "execute_result",
          "data": {
            "text/plain": [
              "(43823, 25)"
            ]
          },
          "metadata": {},
          "execution_count": 28
        }
      ]
    },
    {
      "cell_type": "code",
      "source": [
        "combined_df.to_csv(f\"NationalParksWeatherAndSpending.csv\",index=False)"
      ],
      "metadata": {
        "id": "Wtftlecczp9Q"
      },
      "execution_count": null,
      "outputs": []
    },
    {
      "cell_type": "code",
      "source": [
        "combined_df[\"Park Unit\"].value_counts()"
      ],
      "metadata": {
        "colab": {
          "base_uri": "https://localhost:8080/"
        },
        "id": "YQojATcmnVqV",
        "outputId": "1bf9987d-e197-4c57-c3f5-f3c17f6add35"
      },
      "execution_count": null,
      "outputs": [
        {
          "output_type": "execute_result",
          "data": {
            "text/plain": [
              "Abraham Lincoln Birthplace National Historical Park    1573\n",
              "Monocacy National Battlefield                          1573\n",
              "Muir Woods National Monument                           1573\n",
              "Mount Rushmore National Memorial                       1573\n",
              "Mount Rainier National Park                            1573\n",
              "                                                       ... \n",
              "National Park of American Samoa                         143\n",
              "Pearl Harbor National Memorial                          143\n",
              "Wolf Trap National Park for the Performing Arts         143\n",
              "Arlington House, The Robert E. Lee Memorial             143\n",
              "Reconstruction Era National Historical Park             143\n",
              "Name: Park Unit, Length: 308, dtype: int64"
            ]
          },
          "metadata": {},
          "execution_count": 6
        }
      ]
    },
    {
      "cell_type": "code",
      "source": [
        "# TotalNationalPark\n",
        "NationalWeather\n",
        "NationalWeather[\"Name\"] = NationalWeather[\"Name\"].str.replace(\"&\", \"and\")\n"
      ],
      "metadata": {
        "id": "JMVY-Y1paTbL"
      },
      "execution_count": null,
      "outputs": []
    },
    {
      "cell_type": "code",
      "source": [
        "result = pd.merge(TotalNationalPark, NationalWeather, left_on='Park Unit', right_on='Name', how='left', indicator=True)\n",
        "\n",
        "df = result.loc[result['_merge'] == 'left_only','Park Unit']\n",
        "# df = df3.loc[df3['_merge'] == 'left_only', 'city']\n",
        "# d = df1[df1['city'].isin(df)]\n",
        "d = TotalNationalPark[TotalNationalPark['Park Unit'].isin(df)]\n",
        "\n",
        "# result\n",
        "# d\n"
      ],
      "metadata": {
        "id": "kF4pT0MQZjx_"
      },
      "execution_count": null,
      "outputs": []
    },
    {
      "cell_type": "code",
      "source": [
        "new = d[\"Park Unit\"].unique()\n",
        "\n",
        "pd.set_option('display.max_colwidth', None)\n",
        "print(new.size)\n",
        "new"
      ],
      "metadata": {
        "colab": {
          "base_uri": "https://localhost:8080/"
        },
        "id": "_7PtMzngnadL",
        "outputId": "db1add8d-0799-403d-a281-3b414b7e5446"
      },
      "execution_count": null,
      "outputs": [
        {
          "output_type": "stream",
          "name": "stdout",
          "text": [
            "99\n"
          ]
        },
        {
          "output_type": "execute_result",
          "data": {
            "text/plain": [
              "array(['Acadia National Park',\n",
              "       'Arlington House, The Robert E. Lee\\rMemorial National Memorial',\n",
              "       'Biscayne National Park',\n",
              "       'Brown V Board Of Education National Historic Site',\n",
              "       'Canyon De Chelly National Monument',\n",
              "       'Castillo De San Marcos National Monument',\n",
              "       'Dry Tortugas National Park',\n",
              "       \"Ford's Theatre National Historic Site\",\n",
              "       'Fort Caroline National Memorial',\n",
              "       'Fort McHenry National Monument and SHRINE',\n",
              "       'Fort Sumter National Monument', 'Fort Washington Park',\n",
              "       'Fredericksburg and Spotsylvania National Military Park',\n",
              "       'George Washington Memorial Parkway',\n",
              "       'Golden Spike National Historic Site',\n",
              "       'Gulf Islands National Seashore', 'Haleakala National Park',\n",
              "       'Hawaii Volcanoes National Park', 'Homestead National Monument',\n",
              "       'Indiana Dunes National Lakeshore',\n",
              "       'Jean Lafitte National Park and Preserve', 'Jefferson NEM',\n",
              "       'Jimmy Carter National Historic Site',\n",
              "       'John D Rockefeller Jr Memorial Parkway',\n",
              "       'John F Kennedy National Historic Site',\n",
              "       'Kaloko-Honokohau National Historical Park',\n",
              "       'Kings Canyon National Park',\n",
              "       'Klondike Gold Rush National Historical Park Alask',\n",
              "       'Klondike Gold Rush National Historical Park Washington',\n",
              "       'Lake Chelan National Recreation Area',\n",
              "       'Longfellow National Historic Site',\n",
              "       'Lyndon Baines Johnson Memorial Grove on the Potomac National Memorial',\n",
              "       'Martin Luther King Jr National Historic Site',\n",
              "       'Martin Luther King, Jr. MEM',\n",
              "       'Mississippi National River and Recreation Area', 'Missouri NRR',\n",
              "       'National Capital Parks Central', 'National Capital Parks East',\n",
              "       'National Park of American Samo', 'New River Gorge National River',\n",
              "       'Obed W and SR', 'Ocmulgee National Monument',\n",
              "       'Oregon Caves National Monument', 'Ozark National Scenic River',\n",
              "       'Pennsylvania Avenue National Historic Site',\n",
              "       \"Perry's Victory and Intl. Peace Memorial\", 'Piscataway Park',\n",
              "       \"President's Park\",\n",
              "       'Pu`uhonua O Honaunau National Historical Park',\n",
              "       'Puukohola Heiau National Historic Site', 'Redwood National Park',\n",
              "       'Rio Grande W and SR', 'River Raisin National Battlefield',\n",
              "       'Roger Williams National Memorial',\n",
              "       'Ross Lake National Recreation Area',\n",
              "       'Saint Croix National Scenic River',\n",
              "       'Saint-Gaudens National Historic Site', 'Sequoia National Park',\n",
              "       'Statue Of Liberty National Monument',\n",
              "       'Theodore Roosevelt Island Park',\n",
              "       'Thomas Jefferson National Memorial',\n",
              "       'Timucuan National Historical Park and Ecological Preserve',\n",
              "       'Tumacácori National Historical Park',\n",
              "       'Upper Delaware National Scenic River and NRR',\n",
              "       'Washington Monument', 'Weir Farm National Historic Site',\n",
              "       'White House', 'White Sands National Monument',\n",
              "       'World War II Valor in the Pacific National Monument',\n",
              "       'Cesar E. Chavez National Monument',\n",
              "       'Klondike Gold Rush AK National Historical Park',\n",
              "       'Klondike Gold Rush WA National Historical Park',\n",
              "       'Arlington House, The Robert E.\\rLee Memorial National Memorial',\n",
              "       'Manhattan Project (New Mexico) NH Park',\n",
              "       'Manhattan Project (Washington) NH Park',\n",
              "       'Manhattan Project (Tennessee) NH Park', 'Minidoka (Idaho) NHS',\n",
              "       'Minidoka (Washington) NHS',\n",
              "       'Arlington House, The Robert E. Lee\\nMemorial National Memorial',\n",
              "       'Canaveral NS', 'Cape Cod NS',\n",
              "       'Tumacacori National Historical Park', 'Washington Monument (X)',\n",
              "       'Marsh – Billings – Rockefeller National Historical Park',\n",
              "       'Wrangell – St Elias National Park and Preserve',\n",
              "       'Yukon – Charley Rivers National Preserve',\n",
              "       'Arlington House, The Robert E. Lee Memorial National Memorial',\n",
              "       'Black Canyon of the Gunnison National Park',\n",
              "       'Brown V Board of Education National Historic Site',\n",
              "       'City of Rocks National Reserve',\n",
              "       'Craters of the Moon National Monument and Preserve',\n",
              "       'Gates of the Arctic National Park and Preserve',\n",
              "       'Home of Franklin D Roosevelt National Historic Site',\n",
              "       'Statue of Liberty National Monument',\n",
              "       'War in The Pacific National Historical Park', 'Alagnak WR',\n",
              "       'World War I Memorial', 'World War II M',\n",
              "       'Yukon - Charley Rivers National Preserveb'], dtype=object)"
            ]
          },
          "metadata": {},
          "execution_count": 27
        }
      ]
    },
    {
      "cell_type": "code",
      "source": [
        "# patterns = [\"NHP\",\"NM\",'NP',\"NHS\",\"NM&PRES\",\"NP&PRES\",\"NB\",\"NL\",\"NMEM\",\"NS\",\"NPRES\",\"NRRA\",\"NRA\",\"PKWY\",\"NSR\",\"NR\", \"P\",\"NRES\",\"NM&SHRINE\",\"MEM\",\"MEM PKWY\",\"NMP\",\"NBP\",\"IHS\",\"EHP\",\"NHP&EP\",\"NSR&NRR\",\"W&SR\",\"a\",\"b\",\"c\",\"a,b\",\"a,b,c\"]\n",
        "\n",
        "# results_df = pd.DataFrame()\n",
        "\n",
        "# # Iterate over the list of patterns and search for each pattern\n",
        "# for pattern in patterns:\n",
        "#     result = TotalNationalPark[TotalNationalPark[\"Park Unit\"].str.contains(pattern, regex=True)]\n",
        "#     results_df = pd.concat([results_df, result])\n"
      ],
      "metadata": {
        "id": "dW1nIqe4N9nP"
      },
      "execution_count": null,
      "outputs": []
    },
    {
      "cell_type": "code",
      "source": [
        "results_df"
      ],
      "metadata": {
        "id": "p1fyBMmrOZbI",
        "colab": {
          "base_uri": "https://localhost:8080/",
          "height": 176
        },
        "outputId": "99b43048-cd91-4815-ceee-5c8cd06da9c9"
      },
      "execution_count": null,
      "outputs": [
        {
          "output_type": "error",
          "ename": "NameError",
          "evalue": "ignored",
          "traceback": [
            "\u001b[0;31m---------------------------------------------------------------------------\u001b[0m",
            "\u001b[0;31mNameError\u001b[0m                                 Traceback (most recent call last)",
            "\u001b[0;32m<ipython-input-8-3c899ad3fe5e>\u001b[0m in \u001b[0;36m<cell line: 1>\u001b[0;34m()\u001b[0m\n\u001b[0;32m----> 1\u001b[0;31m \u001b[0mresults_df\u001b[0m\u001b[0;34m\u001b[0m\u001b[0;34m\u001b[0m\u001b[0m\n\u001b[0m",
            "\u001b[0;31mNameError\u001b[0m: name 'results_df' is not defined"
          ]
        }
      ]
    },
    {
      "cell_type": "code",
      "source": [
        "park = pd.read_csv(\"/content/CleanedNationalParksSpendingWeather.csv\")\n",
        "annual = pd.read_csv(\"/content/AnnualWeather.csv\")\n",
        "parkSize = pd.read_csv(\"/content/ParkSize.csv\")\n",
        "# pd.merge(df1, df2, on='ID')\n",
        "w = pd.merge(park,annual,on=[\"Name\", \"year\"])\n",
        "weather = pd.merge(w, parkSize, on=[\"Name\"])"
      ],
      "metadata": {
        "id": "tVs7clyUObzU"
      },
      "execution_count": null,
      "outputs": []
    },
    {
      "cell_type": "code",
      "source": [
        "this = weather[weather[\"Area\"].isna()]\n",
        "this.Name.unique()\n",
        "# this[\"Name\"].unique()\n",
        "this\n",
        "weather.columns"
      ],
      "metadata": {
        "colab": {
          "base_uri": "https://localhost:8080/"
        },
        "id": "Jg1iNEYEuAp_",
        "outputId": "3844c3ad-eedd-44dc-bbf3-76e63493bbef"
      },
      "execution_count": null,
      "outputs": [
        {
          "output_type": "execute_result",
          "data": {
            "text/plain": [
              "Index(['Jobs', 'latitude', 'longitude', 'city', 'postal', 'year', 'month',\n",
              "       'elevation', 'Name', 'Total_Recreation_Visits',\n",
              "       'Total_Visitor_Spending', 'Labor_Income', 'Value_Added',\n",
              "       'Economic_Output', 'Temp', 'Windspeed', 'dew_point',\n",
              "       'adiabatic_saturation', 'soil_moisture', 'max_air_temp', 'min_air_temp',\n",
              "       'max_windspeed', 'min_windspeed', 'total_precip', 'h_i_rad_intensity',\n",
              "       'Temp_13', 'Windspeed_13', 'dew_point_13', 'adiabatic_saturation_13',\n",
              "       'soil_moisture_13', 'max_air_temp_13', 'min_air_temp_13',\n",
              "       'max_windspeed_13', 'min_windspeed_13', 'total_precip_13',\n",
              "       'h_i_rad_intensity_13', 'Location', 'Area'],\n",
              "      dtype='object')"
            ]
          },
          "metadata": {},
          "execution_count": 19
        }
      ]
    },
    {
      "cell_type": "code",
      "source": [
        "weather.to_csv(\"CompletedParks.csv\",index=False)"
      ],
      "metadata": {
        "id": "0Y41I7uTu9nX"
      },
      "execution_count": null,
      "outputs": []
    }
  ]
}